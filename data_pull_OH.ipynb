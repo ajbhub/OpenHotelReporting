{
 "cells": [
  {
   "cell_type": "code",
   "execution_count": 1,
   "metadata": {},
   "outputs": [],
   "source": [
    "import pandas as pd\n",
    "from pathlib import Path\n",
    "import zeep as zp\n",
    "import requests\n",
    "import lxml.etree as etree\n"
   ]
  },
  {
   "cell_type": "code",
   "execution_count": 4,
   "metadata": {},
   "outputs": [
    {
     "name": "stdout",
     "output_type": "stream",
     "text": [
      "<root>\n",
      "  <head>\n",
      "    <status>\n",
      "      <method>getHotels</method>\n",
      "      <code>200</code>\n",
      "      <message>OK</message>\n",
      "      <date>2022-04-22</date>\n",
      "      <time>21:52:55</time>\n",
      "    </status>\n",
      "    <auth>\n",
      "      <user_id>8919365</user_id>\n",
      "      <site_id>2457</site_id>\n",
      "    </auth>\n",
      "  </head>\n",
      "  <body>\n",
      "    <querydata>\n",
      "      <row index=\"1\">\n",
      "        <id>2457</id>\n",
      "        <name>Chautauqua Lodge</name>\n",
      "        <permissions>get</permissions>\n",
      "      </row>\n",
      "    </querydata>\n",
      "  </body>\n",
      "</root>\n",
      "\n"
     ]
    }
   ],
   "source": [
    "myXML = open('test.txt','r')\n",
    "\n",
    "response = requests.post('https://openhotel.com/api/get.cfm/mode/getHotels', myXML.read())\n",
    "\n",
    "xml_str = response.text\n",
    "\n",
    "root = etree.fromstring(xml_str)\n",
    "print(etree.tostring(root, pretty_print=True).decode())\n",
    "\n",
    "\n"
   ]
  }
 ],
 "metadata": {
  "interpreter": {
   "hash": "b7d1f2948ceac33c47cc3118599163110709bfe8fc361e52a29a1b62bc95a3f6"
  },
  "kernelspec": {
   "display_name": "dev",
   "language": "python",
   "name": "dev"
  },
  "language_info": {
   "codemirror_mode": {
    "name": "ipython",
    "version": 3
   },
   "file_extension": ".py",
   "mimetype": "text/x-python",
   "name": "python",
   "nbconvert_exporter": "python",
   "pygments_lexer": "ipython3",
   "version": "3.7.11"
  },
  "orig_nbformat": 4
 },
 "nbformat": 4,
 "nbformat_minor": 2
}
